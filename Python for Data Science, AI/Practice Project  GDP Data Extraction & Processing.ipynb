{
 "cells": [
  {
   "cell_type": "markdown",
   "id": "971fe9a1",
   "metadata": {},
   "source": [
    "## Practice Project : GDP Data Extraction & Processing"
   ]
  },
  {
   "cell_type": "code",
   "execution_count": 1,
   "id": "af58aa12-e948-40dd-b17b-cb4050fc0686",
   "metadata": {},
   "outputs": [],
   "source": [
    "#Installing the required packages\n",
    "#!pip install pandas numpy\n",
    "#!pip install lxml"
   ]
  },
  {
   "cell_type": "code",
   "execution_count": 8,
   "id": "4b9f2303-3f53-4e80-a48e-7a66ebf1c481",
   "metadata": {},
   "outputs": [],
   "source": [
    "# Importing the packages\n",
    "import numpy as np\n",
    "import pandas as pd\n",
    "\n",
    "def warn(*args, **kwargs): \n",
    "    pass\n",
    "import warnings\n",
    "warnings.warn = warn\n",
    "warnings.filterwarnings('ignore')"
   ]
  },
  {
   "cell_type": "markdown",
   "id": "fd1ef40b-d991-4044-bfd5-f24a6c2dc215",
   "metadata": {},
   "source": [
    "### Exercises 1"
   ]
  },
  {
   "cell_type": "code",
   "execution_count": 9,
   "id": "f99324aa-60b9-48d5-8ecc-2e487aca2cb9",
   "metadata": {},
   "outputs": [],
   "source": [
    "# Extract the required GDP data from the given URL using web Scraping\n",
    "\n",
    "url = \"https://web.archive.org/web/20230902185326/https://en.wikipedia.org/wiki/List_of_countries_by_GDP_%28nominal%29\""
   ]
  },
  {
   "cell_type": "code",
   "execution_count": 19,
   "id": "4aa047d3-605e-4f59-ba28-7de8387ab4c9",
   "metadata": {},
   "outputs": [],
   "source": [
    "# Extract tables  from webpage using Pandas, Ratain table number 3 as the required dataframe\n",
    "table = pd.read_html(url)\n",
    "df = table[3]\n",
    "\n",
    "# Replace the column header with column number\n",
    "df.columns = range(df.shape[1])\n",
    "\n",
    "# Retain columns with index 0 and 2 (name of country and value of GDP quoted by IMF)\n",
    "df = df[[0, 2]]\n",
    "\n",
    "# Retain the Rows with index 1 to 10, indicating the top 10 economies of the world.\n",
    "df = df.iloc[1:15, :]\n",
    "\n",
    "# Assign column names as \"Country\" and \"GDP (Million USD)\"\n",
    "df.columns = ['Country','GDP (Million USD)']"
   ]
  },
  {
   "cell_type": "markdown",
   "id": "a8ed0216-464b-41c1-bb08-b60657c2c734",
   "metadata": {},
   "source": [
    "### RWE : Real World Excersice 1"
   ]
  },
  {
   "cell_type": "code",
   "execution_count": 20,
   "id": "eeab3fd4-cdf9-457b-9451-bd4c8181b1d9",
   "metadata": {},
   "outputs": [
    {
     "name": "stdout",
     "output_type": "stream",
     "text": [
      "                Country  GDP (Country)\n",
      "1               Albania         2296.0\n",
      "2               Algeria        48599.0\n",
      "3               Andorra            NaN\n",
      "4                Angola         6214.0\n",
      "5   Antigua and Barbuda          164.0\n",
      "6             Argentina        94250.0\n",
      "7               Armenia            NaN\n",
      "8                 Aruba            NaN\n",
      "9             Australia       187087.0\n",
      "10              Austria        70111.0\n",
      "11           Azerbaijan            NaN\n",
      "12              Bahamas         3031.0\n",
      "13              Bahrain         4264.0\n",
      "14           Bangladesh        24678.0\n"
     ]
    }
   ],
   "source": [
    "# Extract info from webpage \n",
    "url_2 = \"https://en.wikipedia.org/wiki/List_of_countries_by_past_and_projected_GDP_(nominal)\"\n",
    "\n",
    "# Read the webpage\n",
    "table_exports = pd.read_html(url_2)\n",
    "\n",
    "# Assign the dataframe to table 1 on the webpage\n",
    "df_2 = table_exports[1]\n",
    "\n",
    "# Renames column in the dataframe and column numbers\n",
    "df_2.columns = range(df_2.shape[1])\n",
    "\n",
    "# Ratain columns with index 0 and 2\n",
    "df_2 = df_2[[0, 3]]\n",
    "\n",
    "# Retain the Rows with index 1 to 10\n",
    "df_2 = df_2.iloc[1:15,:]\n",
    "\n",
    "# Assigns column names in the dataframe\n",
    "df_2.columns = ['Country', 'GDP (Country)']\n",
    "\n",
    "# Display table\n",
    "print(df_2)"
   ]
  },
  {
   "cell_type": "markdown",
   "id": "2831351f",
   "metadata": {},
   "source": [
    "### Excerise 2"
   ]
  },
  {
   "cell_type": "code",
   "execution_count": 28,
   "id": "5d70290b-9c98-44f9-8143-180165ba6f49",
   "metadata": {},
   "outputs": [
    {
     "data": {
      "text/html": [
       "<div>\n",
       "<style scoped>\n",
       "    .dataframe tbody tr th:only-of-type {\n",
       "        vertical-align: middle;\n",
       "    }\n",
       "\n",
       "    .dataframe tbody tr th {\n",
       "        vertical-align: top;\n",
       "    }\n",
       "\n",
       "    .dataframe thead th {\n",
       "        text-align: right;\n",
       "    }\n",
       "</style>\n",
       "<table border=\"1\" class=\"dataframe\">\n",
       "  <thead>\n",
       "    <tr style=\"text-align: right;\">\n",
       "      <th></th>\n",
       "      <th>Country</th>\n",
       "      <th>GDP (Million USD)</th>\n",
       "    </tr>\n",
       "  </thead>\n",
       "  <tbody>\n",
       "    <tr>\n",
       "      <th>1</th>\n",
       "      <td>26854599</td>\n",
       "      <td>26854.60</td>\n",
       "    </tr>\n",
       "    <tr>\n",
       "      <th>2</th>\n",
       "      <td>19373586</td>\n",
       "      <td>19373.59</td>\n",
       "    </tr>\n",
       "    <tr>\n",
       "      <th>3</th>\n",
       "      <td>4409738</td>\n",
       "      <td>4409.74</td>\n",
       "    </tr>\n",
       "    <tr>\n",
       "      <th>4</th>\n",
       "      <td>4308854</td>\n",
       "      <td>4308.85</td>\n",
       "    </tr>\n",
       "    <tr>\n",
       "      <th>5</th>\n",
       "      <td>3736882</td>\n",
       "      <td>3736.88</td>\n",
       "    </tr>\n",
       "    <tr>\n",
       "      <th>6</th>\n",
       "      <td>3158938</td>\n",
       "      <td>3158.94</td>\n",
       "    </tr>\n",
       "    <tr>\n",
       "      <th>7</th>\n",
       "      <td>2923489</td>\n",
       "      <td>2923.49</td>\n",
       "    </tr>\n",
       "    <tr>\n",
       "      <th>8</th>\n",
       "      <td>2169745</td>\n",
       "      <td>2169.74</td>\n",
       "    </tr>\n",
       "    <tr>\n",
       "      <th>9</th>\n",
       "      <td>2089672</td>\n",
       "      <td>2089.67</td>\n",
       "    </tr>\n",
       "    <tr>\n",
       "      <th>10</th>\n",
       "      <td>2081235</td>\n",
       "      <td>2081.24</td>\n",
       "    </tr>\n",
       "    <tr>\n",
       "      <th>11</th>\n",
       "      <td>2062649</td>\n",
       "      <td>2062.65</td>\n",
       "    </tr>\n",
       "    <tr>\n",
       "      <th>12</th>\n",
       "      <td>1721909</td>\n",
       "      <td>1721.91</td>\n",
       "    </tr>\n",
       "    <tr>\n",
       "      <th>13</th>\n",
       "      <td>1707548</td>\n",
       "      <td>1707.55</td>\n",
       "    </tr>\n",
       "    <tr>\n",
       "      <th>14</th>\n",
       "      <td>1663164</td>\n",
       "      <td>1663.16</td>\n",
       "    </tr>\n",
       "  </tbody>\n",
       "</table>\n",
       "</div>"
      ],
      "text/plain": [
       "     Country  GDP (Million USD)\n",
       "1   26854599           26854.60\n",
       "2   19373586           19373.59\n",
       "3    4409738            4409.74\n",
       "4    4308854            4308.85\n",
       "5    3736882            3736.88\n",
       "6    3158938            3158.94\n",
       "7    2923489            2923.49\n",
       "8    2169745            2169.74\n",
       "9    2089672            2089.67\n",
       "10   2081235            2081.24\n",
       "11   2062649            2062.65\n",
       "12   1721909            1721.91\n",
       "13   1707548            1707.55\n",
       "14   1663164            1663.16"
      ]
     },
     "execution_count": 28,
     "metadata": {},
     "output_type": "execute_result"
    }
   ],
   "source": [
    "# Change the data type of the 'GDP (Million USD)' column to integer. Use astype() method.\n",
    "df['GDP (Million USD)'] = df['GDP (Million USD)'].astype(int)\n",
    "\n",
    "# Convert the GDP value in Million USD to Billion USD\n",
    "df[['GDP (Million USD)']] = df[['GDP (Million USD)']]/1000\n",
    "\n",
    "# Use numpy.round() method to round the value to 2 decimal places.\n",
    "df[['GDP (Million USD)']] = np.round(df[['GDP (Million USD)']], 2)\n",
    "\n",
    "# Rename the column header from 'GDP (Million USD)' to 'GDP (Billion USD)'\n",
    "df.rename(columns = {'GDP (Country)' : 'GDP (Country)'})"
   ]
  },
  {
   "cell_type": "markdown",
   "id": "fd482aec",
   "metadata": {},
   "source": [
    "### Exercise 3"
   ]
  },
  {
   "cell_type": "code",
   "execution_count": 13,
   "id": "1825c250",
   "metadata": {},
   "outputs": [],
   "source": [
    "# Load the DataFrame to the CSV file named \"Largest_economies.csv\"\n",
    "df.to_csv('./Largest_economies.csv')"
   ]
  },
  {
   "cell_type": "markdown",
   "id": "f2af788b",
   "metadata": {},
   "source": [
    "### RWE : 3"
   ]
  },
  {
   "cell_type": "code",
   "execution_count": 15,
   "id": "a094d439",
   "metadata": {},
   "outputs": [],
   "source": [
    "# Load the DataFrame to the CSV file named \"Country GDP.csv\"\n",
    "df_2.to_csv('./Country_GDP')"
   ]
  },
  {
   "cell_type": "code",
   "execution_count": 48,
   "id": "f214c674",
   "metadata": {},
   "outputs": [
    {
     "data": {
      "text/html": [
       "<div>\n",
       "<style scoped>\n",
       "    .dataframe tbody tr th:only-of-type {\n",
       "        vertical-align: middle;\n",
       "    }\n",
       "\n",
       "    .dataframe tbody tr th {\n",
       "        vertical-align: top;\n",
       "    }\n",
       "\n",
       "    .dataframe thead th {\n",
       "        text-align: right;\n",
       "    }\n",
       "</style>\n",
       "<table border=\"1\" class=\"dataframe\">\n",
       "  <thead>\n",
       "    <tr style=\"text-align: right;\">\n",
       "      <th></th>\n",
       "      <th>Country</th>\n",
       "      <th>GDP (Country)</th>\n",
       "    </tr>\n",
       "  </thead>\n",
       "  <tbody>\n",
       "    <tr>\n",
       "      <th>1</th>\n",
       "      <td>2296.0</td>\n",
       "      <td>2296.0</td>\n",
       "    </tr>\n",
       "    <tr>\n",
       "      <th>2</th>\n",
       "      <td>48599.0</td>\n",
       "      <td>48599.0</td>\n",
       "    </tr>\n",
       "    <tr>\n",
       "      <th>4</th>\n",
       "      <td>6214.0</td>\n",
       "      <td>6214.0</td>\n",
       "    </tr>\n",
       "    <tr>\n",
       "      <th>5</th>\n",
       "      <td>164.0</td>\n",
       "      <td>164.0</td>\n",
       "    </tr>\n",
       "    <tr>\n",
       "      <th>6</th>\n",
       "      <td>94250.0</td>\n",
       "      <td>94250.0</td>\n",
       "    </tr>\n",
       "    <tr>\n",
       "      <th>9</th>\n",
       "      <td>187087.0</td>\n",
       "      <td>187087.0</td>\n",
       "    </tr>\n",
       "    <tr>\n",
       "      <th>10</th>\n",
       "      <td>70111.0</td>\n",
       "      <td>70111.0</td>\n",
       "    </tr>\n",
       "    <tr>\n",
       "      <th>12</th>\n",
       "      <td>3031.0</td>\n",
       "      <td>3031.0</td>\n",
       "    </tr>\n",
       "    <tr>\n",
       "      <th>13</th>\n",
       "      <td>4264.0</td>\n",
       "      <td>4264.0</td>\n",
       "    </tr>\n",
       "    <tr>\n",
       "      <th>14</th>\n",
       "      <td>24678.0</td>\n",
       "      <td>24678.0</td>\n",
       "    </tr>\n",
       "  </tbody>\n",
       "</table>\n",
       "</div>"
      ],
      "text/plain": [
       "     Country  GDP (Country)\n",
       "1     2296.0         2296.0\n",
       "2    48599.0        48599.0\n",
       "4     6214.0         6214.0\n",
       "5      164.0          164.0\n",
       "6    94250.0        94250.0\n",
       "9   187087.0       187087.0\n",
       "10   70111.0        70111.0\n",
       "12    3031.0         3031.0\n",
       "13    4264.0         4264.0\n",
       "14   24678.0        24678.0"
      ]
     },
     "execution_count": 48,
     "metadata": {},
     "output_type": "execute_result"
    }
   ],
   "source": [
    "# Change the data type of the 'Country' column to float. Use astype() method.\n",
    "df_2['Country'] = df_2['GDP (Country)'].astype(float)\n",
    "\n",
    "# Use numpy.round() method to round the value to 2 decimal places.\n",
    "df_2[['Country']] = np.round(df_2[['GDP (Country)']], 2)\n",
    "\n",
    "# Rename the column header from 'GDP (Million USD)' to 'GDP (Billion USD)'\n",
    "df_2.rename(columns = {' Country' : 'GDP (Country)'})\n",
    "\n",
    "# Removes the NaNa from df_2 using dropna\n",
    "df_2.dropna(axis=0,how='all',inplace=False)\n"
   ]
  },
  {
   "cell_type": "code",
   "execution_count": null,
   "id": "b3bb7ac6",
   "metadata": {},
   "outputs": [],
   "source": []
  }
 ],
 "metadata": {
  "kernelspec": {
   "display_name": "base",
   "language": "python",
   "name": "python3"
  },
  "language_info": {
   "codemirror_mode": {
    "name": "ipython",
    "version": 3
   },
   "file_extension": ".py",
   "mimetype": "text/x-python",
   "name": "python",
   "nbconvert_exporter": "python",
   "pygments_lexer": "ipython3",
   "version": "3.11.9"
  }
 },
 "nbformat": 4,
 "nbformat_minor": 5
}
