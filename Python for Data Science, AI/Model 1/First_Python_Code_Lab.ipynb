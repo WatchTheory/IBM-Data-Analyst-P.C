{
  "metadata": {
    "kernelspec": {
      "name": "python",
      "display_name": "Python (Pyodide)",
      "language": "python"
    },
    "language_info": {
      "codemirror_mode": {
        "name": "python",
        "version": 3
      },
      "file_extension": ".py",
      "mimetype": "text/x-python",
      "name": "python",
      "nbconvert_exporter": "python",
      "pygments_lexer": "ipython3",
      "version": "3.8"
    }
  },
  "nbformat_minor": 4,
  "nbformat": 4,
  "cells": [
    {
      "cell_type": "markdown",
      "source": "## Writing your First Python Code ",
      "metadata": {}
    },
    {
      "cell_type": "code",
      "source": "# printing first python output\n\nprint('Hello,Python!')",
      "metadata": {
        "trusted": true
      },
      "outputs": [
        {
          "name": "stdout",
          "text": "Hello,Python!\n",
          "output_type": "stream"
        }
      ],
      "execution_count": 1
    },
    {
      "cell_type": "code",
      "source": "# Checking Python Version\nimport sys\nprint(sys.version)",
      "metadata": {
        "trusted": true
      },
      "outputs": [
        {
          "name": "stdout",
          "text": "3.12.1 (main, Jun  7 2024, 22:40:30) [Clang 19.0.0git (https:/github.com/llvm/llvm-project 0a8cd1ed1f4f35905df318015b\n",
          "output_type": "stream"
        }
      ],
      "execution_count": 2
    },
    {
      "cell_type": "markdown",
      "source": "#### Writting comments Python",
      "metadata": {}
    },
    {
      "cell_type": "code",
      "source": "# Practice on writting comments\n\nprint(\"Hello, Python!\") # This line is a comment",
      "metadata": {
        "trusted": true
      },
      "outputs": [
        {
          "name": "stdout",
          "text": "Hello, Python!\n",
          "output_type": "stream"
        }
      ],
      "execution_count": 3
    },
    {
      "cell_type": "markdown",
      "source": "#### Errors in Python",
      "metadata": {}
    },
    {
      "cell_type": "code",
      "source": "# This is a error \n\nfrint('Hello!')  # This line will throw an error\n\n# correction\n\nprint('Hello!')  # This will not throw an error  ",
      "metadata": {
        "trusted": true
      },
      "outputs": [
        {
          "ename": "<class 'NameError'>",
          "evalue": "name 'frint' is not defined",
          "traceback": [
            "\u001b[0;31m---------------------------------------------------------------------------\u001b[0m",
            "\u001b[0;31mNameError\u001b[0m                                 Traceback (most recent call last)",
            "Cell \u001b[0;32mIn[5], line 3\u001b[0m\n\u001b[1;32m      1\u001b[0m \u001b[38;5;66;03m# This is a error \u001b[39;00m\n\u001b[0;32m----> 3\u001b[0m \u001b[43mfrint\u001b[49m(\u001b[38;5;124m'\u001b[39m\u001b[38;5;124mHello!\u001b[39m\u001b[38;5;124m'\u001b[39m)  \u001b[38;5;66;03m# This line will throw an error\u001b[39;00m\n\u001b[1;32m      5\u001b[0m \u001b[38;5;66;03m# correction\u001b[39;00m\n\u001b[1;32m      7\u001b[0m \u001b[38;5;28mprint\u001b[39m(\u001b[38;5;124m'\u001b[39m\u001b[38;5;124mHello!\u001b[39m\u001b[38;5;124m'\u001b[39m)  \u001b[38;5;66;03m# This will not throw an error  \u001b[39;00m\n",
            "\u001b[0;31mNameError\u001b[0m: name 'frint' is not defined"
          ],
          "output_type": "error"
        }
      ],
      "execution_count": 5
    },
    {
      "cell_type": "markdown",
      "source": "",
      "metadata": {}
    }
  ]
}