{
  "metadata": {
    "kernelspec": {
      "name": "python",
      "display_name": "Python (Pyodide)",
      "language": "python"
    },
    "language_info": {
      "codemirror_mode": {
        "name": "python",
        "version": 3
      },
      "file_extension": ".py",
      "mimetype": "text/x-python",
      "name": "python",
      "nbconvert_exporter": "python",
      "pygments_lexer": "ipython3",
      "version": "3.8"
    }
  },
  "nbformat_minor": 4,
  "nbformat": 4,
  "cells": [
    {
      "cell_type": "markdown",
      "source": "### Step 1:Define a String",
      "metadata": {}
    },
    {
      "cell_type": "code",
      "source": "givenstring = \"please review your statement, and try again later!Or uou can keep going, and fail! you can't keep going like this, you are bound to fail or even pass your exam.\"",
      "metadata": {
        "trusted": true
      },
      "outputs": [],
      "execution_count": 51
    },
    {
      "cell_type": "markdown",
      "source": "### Step 2: Define the Class and its attributes",
      "metadata": {}
    },
    {
      "cell_type": "code",
      "source": "class TextAnalyzer(object):\n    \n    def __init__(self,text):\n        formattedText = text.replace('.','').replace(\"!\",' ').replace('?', '').replace(',','')\n\n        formattedText = formattedText.lower()\n        self.fmtText = formattedText\n    ",
      "metadata": {
        "trusted": true
      },
      "outputs": [],
      "execution_count": 61
    },
    {
      "cell_type": "markdown",
      "source": "### Step 3: Implement a code to format the text in lowercase",
      "metadata": {}
    },
    {
      "cell_type": "code",
      "source": "    def freqAll(self):\n        wordList = self.fmtText.split(' ')\n\n        freqMap = {}\n        for word in set(wordList): \n            freqMap[word] = wordList.count(word)\n        return freqMap\n\n    def freqOf(self,word):\n        freqDict = self.freqAll()\n\n        if word in freqDict:\n            return freqDict[word]\n        else:\n            return 0 ",
      "metadata": {
        "trusted": true
      },
      "outputs": [],
      "execution_count": 62
    },
    {
      "cell_type": "markdown",
      "source": "### Step 4: Implement a code to count the frequency of all unique words",
      "metadata": {}
    },
    {
      "cell_type": "code",
      "source": "",
      "metadata": {
        "trusted": true
      },
      "outputs": [],
      "execution_count": null
    },
    {
      "cell_type": "code",
      "source": "analyzed = TextAnalyzer(givenstring)",
      "metadata": {
        "trusted": true
      },
      "outputs": [],
      "execution_count": 53
    },
    {
      "cell_type": "code",
      "source": "print(\"Formatted Text:\", analyzed.fmtText)",
      "metadata": {
        "trusted": true
      },
      "outputs": [
        {
          "name": "stdout",
          "text": "Formatted Text: please review your statement and try again later or uou can keep going and fail  you can't keep going like this you are bound to fail or even pass your exam\n",
          "output_type": "stream"
        }
      ],
      "execution_count": 54
    },
    {
      "cell_type": "markdown",
      "source": "### Step 3: Call the function that counts the frequency of all unique word from data",
      "metadata": {}
    },
    {
      "cell_type": "code",
      "source": "freqMap = analyzed.freqAll()\nprint(freqMap)",
      "metadata": {
        "trusted": true
      },
      "outputs": [
        {
          "name": "stdout",
          "text": "{'': 1, 'can': 1, 'keep': 2, 'pass': 1, 'are': 1, 'fail': 2, 'going': 2, 'statement': 1, 'later': 1, 'review': 1, 'you': 2, 'try': 1, 'even': 1, 'and': 2, 'uou': 1, 'bound': 1, 'your': 2, 'this': 1, 'please': 1, 'exam': 1, 'again': 1, 'to': 1, 'or': 2, \"can't\": 1, 'like': 1}\n",
          "output_type": "stream"
        }
      ],
      "execution_count": 55
    },
    {
      "cell_type": "markdown",
      "source": "### Step 4 : Call the function that counts the frequency of a specific word",
      "metadata": {}
    },
    {
      "cell_type": "code",
      "source": "word = \"\"\nfrequency = analyzed.freqOf(word)\nprint(\"The word\",word,\"appears\",frequency,\"times.\")\n",
      "metadata": {
        "trusted": true
      },
      "outputs": [
        {
          "name": "stdout",
          "text": "The word  appears 1 times.\n",
          "output_type": "stream"
        }
      ],
      "execution_count": 63
    },
    {
      "cell_type": "code",
      "source": "",
      "metadata": {
        "trusted": true
      },
      "outputs": [
        {
          "ename": "<class 'SyntaxError'>",
          "evalue": "invalid syntax (<ipython-input-60-a24c4b0ea5b2>, line 1)",
          "traceback": [
            "\u001b[0;36m  Cell \u001b[0;32mIn[60], line 1\u001b[0;36m\u001b[0m\n\u001b[0;31m    **/\u001b[0m\n\u001b[0m    ^\u001b[0m\n\u001b[0;31mSyntaxError\u001b[0m\u001b[0;31m:\u001b[0m invalid syntax\n"
          ],
          "output_type": "error"
        }
      ],
      "execution_count": 60
    },
    {
      "cell_type": "code",
      "source": "",
      "metadata": {
        "trusted": true
      },
      "outputs": [],
      "execution_count": null
    }
  ]
}