{
  "metadata": {
    "kernelspec": {
      "name": "python",
      "display_name": "Python (Pyodide)",
      "language": "python"
    },
    "language_info": {
      "codemirror_mode": {
        "name": "python",
        "version": 3
      },
      "file_extension": ".py",
      "mimetype": "text/x-python",
      "name": "python",
      "nbconvert_exporter": "python",
      "pygments_lexer": "ipython3",
      "version": "3.8"
    },
    "prev_pub_hash": "7997b8a71ae7e2680cb74e72fc353601a4a722981b15b6b93a8bf964c115ec58",
    "widgets": {
      "application/vnd.jupyter.widget-state+json": {
        "version_major": 2,
        "version_minor": 0,
        "state": {}
      }
    }
  },
  "nbformat_minor": 4,
  "nbformat": 4,
  "cells": [
    {
      "cell_type": "markdown",
      "source": "<p style=\"text-align:center\">\n    <a href=\"https://skills.network\" target=\"_blank\">\n    <img src=\"https://cf-courses-data.s3.us.cloud-object-storage.appdomain.cloud/assets/logos/SN_web_lightmode.png\" width=\"300\" alt=\"Skills Network Logo\">\n    </a>\n</p>\n",
      "metadata": {}
    },
    {
      "cell_type": "markdown",
      "source": "# **Hands-on Practice Lab: Importing Dataset - Laptops Pricing**\n\nEstimated time needed: **20** minutes\n\nIn this lab, you will practice the process of loading and drawing basic insights on a dataset as learnt through the module. You are being provided with a fresh dataset on 'Laptop Pricing' which will be used for all the practice labs throughout the course.\n",
      "metadata": {}
    },
    {
      "cell_type": "markdown",
      "source": "# Objectives\n\nAfter completing this lab you will be able to:\n\n - Import a dataset from a CSV file to a Pandas dataframe\n - Develop some basic insights about the dataset\n",
      "metadata": {}
    },
    {
      "cell_type": "markdown",
      "source": "# Setup\n",
      "metadata": {}
    },
    {
      "cell_type": "markdown",
      "source": "For this lab, we will be using the following libraries:\n\n* `skillsnetwork` for downloading the daataset\n\n*   [`pandas`](https://pandas.pydata.org/?utm_medium=Exinfluencer&utm_source=Exinfluencer&utm_content=000026UJ&utm_term=10006555&utm_id=NA-SkillsNetwork-Channel-SkillsNetworkCoursesIBMML0187ENSkillsNetwork31430127-2021-01-01) for managing the data.\n*   [`numpy`](https://numpy.org/?utm_medium=Exinfluencer&utm_source=Exinfluencer&utm_content=000026UJ&utm_term=10006555&utm_id=NA-SkillsNetwork-Channel-SkillsNetworkCoursesIBMML0187ENSkillsNetwork31430127-2021-01-01) for mathematical operations.\n",
      "metadata": {}
    },
    {
      "cell_type": "markdown",
      "source": "### Importing Required Libraries\n",
      "metadata": {}
    },
    {
      "cell_type": "code",
      "source": "import pandas as pd\nimport numpy as np",
      "metadata": {
        "trusted": true
      },
      "outputs": [],
      "execution_count": 43
    },
    {
      "cell_type": "markdown",
      "source": "The data set to be used is available on the link below.\n",
      "metadata": {}
    },
    {
      "cell_type": "markdown",
      "source": "The functions below will download the dataset into your browser:\n",
      "metadata": {}
    },
    {
      "cell_type": "code",
      "source": "from pyodide.http import pyfetch\n\nasync def download(url, filename):\n    response = await pyfetch(url)\n    if response.status == 200:\n        with open(filename, \"wb\") as f:\n            f.write(await response.bytes())",
      "metadata": {
        "trusted": true
      },
      "outputs": [],
      "execution_count": 42
    },
    {
      "cell_type": "code",
      "source": "file_path = \"https://cf-courses-data.s3.us.cloud-object-storage.appdomain.cloud/IBMDeveloperSkillsNetwork-DA0101EN-Coursera/laptop_pricing_dataset_base.csv\"",
      "metadata": {
        "trusted": true
      },
      "outputs": [],
      "execution_count": 41
    },
    {
      "cell_type": "markdown",
      "source": "To obtain the dataset, utilize the download() function as defined above:\n",
      "metadata": {}
    },
    {
      "cell_type": "code",
      "source": "await download(file_path, \"laptops.csv\")\nfile_name=\"laptops.csv\"",
      "metadata": {
        "trusted": true
      },
      "outputs": [],
      "execution_count": 40
    },
    {
      "cell_type": "code",
      "source": "df = pd.read_csv(file_name)",
      "metadata": {
        "trusted": true
      },
      "outputs": [],
      "execution_count": 39
    },
    {
      "cell_type": "markdown",
      "source": "> Note: This version of the lab is working on JupyterLite, which requires the dataset to be downloaded to the interface. While working on the downloaded version of this notebook on their local machines, the learners can simply **skip the steps above**, and simply use the URL directly in the `pandas.read_csv()` function. You can uncomment and run the statements in the cell below.\n",
      "metadata": {}
    },
    {
      "cell_type": "code",
      "source": "#filepath = \"https://cf-courses-data.s3.us.cloud-object-storage.appdomain.cloud/IBMDeveloperSkillsNetwork-DA0101EN-Coursera/laptop_pricing_dataset_base.csv\"\n#df = pd.read_csv(filepath, header=None)",
      "metadata": {
        "trusted": true
      },
      "outputs": [],
      "execution_count": 38
    },
    {
      "cell_type": "markdown",
      "source": "<h1> Task #1: </h1>\n<h3>Load the dataset to a pandas dataframe named 'df'</h3>\nPrint the first 5 entries of the dataset to confirm loading.\n",
      "metadata": {}
    },
    {
      "cell_type": "code",
      "source": "# Write your code below and press Shift+Enter to execute.\ndf = pd.read_csv(file_name, header=None)\nprint(df.head())",
      "metadata": {
        "trusted": true
      },
      "outputs": [
        {
          "name": "stdout",
          "text": "     0   1          2   3   4   5       6    7   8    9     10    11\n0  Acer   4  IPS Panel   2   1   5   35.56  1.6   8  256   1.6   978\n1  Dell   3    Full HD   1   1   3  39.624  2.0   4  256   2.2   634\n2  Dell   3    Full HD   1   1   7  39.624  2.7   8  256   2.2   946\n3  Dell   4  IPS Panel   2   1   5  33.782  1.6   8  128  1.22  1244\n4    HP   4    Full HD   2   1   7  39.624  1.8   8  256  1.91   837\n",
          "output_type": "stream"
        }
      ],
      "execution_count": 30
    },
    {
      "cell_type": "markdown",
      "source": "<h1> Task #2: </h1>\n<h3>Add headers to the dataframe</h3>\nThe headers for the dataset, in sequence, are \"Manufacturer\", \"Category\", \"Screen\", \"GPU\", \"OS\", \"CPU_core\",\n\"Screen_Size_inch\", \"CPU_frequency\", \"RAM_GB\", \"Storage_GB_SSD\", \"Weight_kg\" and \"Price\".\n\nConfirm insertion by printing the first 10 rows of the dataset.\n",
      "metadata": {}
    },
    {
      "cell_type": "code",
      "source": "# Create a Header array for the columns \nheader = ['Manufacturer','Category','Screen',\n          'GPU','OS','CPU_Core','Screen_Size_inch',\n          'CPU_frequency','RAM_GB','Storage_GB_SSD','Weight_kg','Price']\n# assign header to dataframe column\ndf.columns = header\n\n# display head\nprint(df.head(10))",
      "metadata": {
        "trusted": true
      },
      "outputs": [
        {
          "name": "stdout",
          "text": "  Manufacturer  Category     Screen  GPU  OS  CPU_Core Screen_Size_inch  \\\n0         Acer         4  IPS Panel    2   1         5            35.56   \n1         Dell         3    Full HD    1   1         3           39.624   \n2         Dell         3    Full HD    1   1         7           39.624   \n3         Dell         4  IPS Panel    2   1         5           33.782   \n4           HP         4    Full HD    2   1         7           39.624   \n5         Dell         3    Full HD    1   1         5           39.624   \n6           HP         3    Full HD    3   1         5           39.624   \n7         Acer         3  IPS Panel    2   1         5             38.1   \n8         Dell         3    Full HD    1   1         5           39.624   \n9         Acer         3  IPS Panel    3   1         7             38.1   \n\n   CPU_frequency  RAM_GB  Storage_GB_SSD Weight_kg  Price  \n0            1.6       8             256       1.6    978  \n1            2.0       4             256       2.2    634  \n2            2.7       8             256       2.2    946  \n3            1.6       8             128      1.22   1244  \n4            1.8       8             256      1.91    837  \n5            1.6       8             256       2.2   1016  \n6            1.6       8             256       2.1   1117  \n7            1.6       4             256       2.2    866  \n8            2.5       4             256       2.3    812  \n9            1.8       8             256       2.2   1068  \n",
          "output_type": "stream"
        }
      ],
      "execution_count": 31
    },
    {
      "cell_type": "markdown",
      "source": "<h1> Task #3: </h1>\n<h3>Replace '?' with 'NaN'</h3>\nReplace the '?' entries in the dataset with NaN value, recevied from the Numpy package.\n",
      "metadata": {}
    },
    {
      "cell_type": "code",
      "source": "# Replace ? values with NaN\ndf = df.replace(\"?\",np.nan, inplace=True)",
      "metadata": {
        "trusted": true
      },
      "outputs": [],
      "execution_count": 32
    },
    {
      "cell_type": "markdown",
      "source": "<h1> Task #4: </h1>\n<h3>Print the data types of the dataframe columns</h3>\nMake a note of the data types of the different columns of the dataset.\n",
      "metadata": {}
    },
    {
      "cell_type": "code",
      "source": "df.dtypes",
      "metadata": {
        "trusted": true,
        "scrolled": true
      },
      "outputs": [
        {
          "execution_count": 44,
          "output_type": "execute_result",
          "data": {
            "text/plain": "Acer          object\n4              int64\nIPS Panel     object\n2              int64\n1              int64\n5              int64\n35.56         object\n1.6          float64\n8              int64\n256            int64\n1.6.1         object\n978            int64\ndtype: object"
          },
          "metadata": {}
        }
      ],
      "execution_count": 44
    },
    {
      "cell_type": "markdown",
      "source": "<h1> Task #5: </h1>\n<h3>Print the statistical description of the dataset, including that of 'object' data types.</h3>\n",
      "metadata": {}
    },
    {
      "cell_type": "code",
      "source": "df.describe(include='object')",
      "metadata": {
        "trusted": true
      },
      "outputs": [
        {
          "execution_count": 46,
          "output_type": "execute_result",
          "data": {
            "text/plain": "        Acer IPS Panel   35.56 1.6.1\ncount    237       237     237   237\nunique    11         2      10    78\ntop     Dell   Full HD  39.624   2.2\nfreq      71       161      89    21",
            "text/html": "<div>\n<style scoped>\n    .dataframe tbody tr th:only-of-type {\n        vertical-align: middle;\n    }\n\n    .dataframe tbody tr th {\n        vertical-align: top;\n    }\n\n    .dataframe thead th {\n        text-align: right;\n    }\n</style>\n<table border=\"1\" class=\"dataframe\">\n  <thead>\n    <tr style=\"text-align: right;\">\n      <th></th>\n      <th>Acer</th>\n      <th>IPS Panel</th>\n      <th>35.56</th>\n      <th>1.6.1</th>\n    </tr>\n  </thead>\n  <tbody>\n    <tr>\n      <th>count</th>\n      <td>237</td>\n      <td>237</td>\n      <td>237</td>\n      <td>237</td>\n    </tr>\n    <tr>\n      <th>unique</th>\n      <td>11</td>\n      <td>2</td>\n      <td>10</td>\n      <td>78</td>\n    </tr>\n    <tr>\n      <th>top</th>\n      <td>Dell</td>\n      <td>Full HD</td>\n      <td>39.624</td>\n      <td>2.2</td>\n    </tr>\n    <tr>\n      <th>freq</th>\n      <td>71</td>\n      <td>161</td>\n      <td>89</td>\n      <td>21</td>\n    </tr>\n  </tbody>\n</table>\n</div>"
          },
          "metadata": {}
        }
      ],
      "execution_count": 46
    },
    {
      "cell_type": "markdown",
      "source": "<details><summary>Click here for solution</summary>\n\n```python\nprint(df.describe(include='all'))\n```\n</details>\n",
      "metadata": {}
    },
    {
      "cell_type": "markdown",
      "source": "<h1> Task #6: </h1>\n<h3>Print the summary information of the dataset.</h3>\n",
      "metadata": {}
    },
    {
      "cell_type": "code",
      "source": "# Write your code below and press Shift+Enter to execute.\ndf.info()",
      "metadata": {
        "trusted": true
      },
      "outputs": [
        {
          "name": "stdout",
          "text": "<class 'pandas.core.frame.DataFrame'>\nRangeIndex: 237 entries, 0 to 236\nData columns (total 12 columns):\n #   Column     Non-Null Count  Dtype  \n---  ------     --------------  -----  \n 0   Acer       237 non-null    object \n 1   4          237 non-null    int64  \n 2   IPS Panel  237 non-null    object \n 3   2          237 non-null    int64  \n 4   1          237 non-null    int64  \n 5   5          237 non-null    int64  \n 6   35.56      237 non-null    object \n 7   1.6        237 non-null    float64\n 8   8          237 non-null    int64  \n 9   256        237 non-null    int64  \n 10  1.6.1      237 non-null    object \n 11  978        237 non-null    int64  \ndtypes: float64(1), int64(7), object(4)\nmemory usage: 18.6+ KB\nNone\n",
          "output_type": "stream"
        }
      ],
      "execution_count": 48
    },
    {
      "cell_type": "markdown",
      "source": "---\n",
      "metadata": {}
    },
    {
      "cell_type": "markdown",
      "source": "# Congratulations! You have completed the lab\n",
      "metadata": {}
    },
    {
      "cell_type": "markdown",
      "source": "## Authors\n",
      "metadata": {}
    },
    {
      "cell_type": "markdown",
      "source": "[Abhishek Gagneja](https://www.coursera.org/instructor/~129186572)\n\n[Vicky Kuo](https://author.skills.network/instructors/vicky_kuo)\n",
      "metadata": {}
    },
    {
      "cell_type": "markdown",
      "source": "Copyright © 2023 IBM Corporation. All rights reserved.\n",
      "metadata": {}
    },
    {
      "cell_type": "markdown",
      "source": "<!--## Change Log\n",
      "metadata": {}
    },
    {
      "cell_type": "markdown",
      "source": "<!--|Date (YYYY-MM-DD)|Version|Changed By|Change Description|\n|-|-|-|-|\n|2023-09-15|0.1|Abhishek Gagneja|Initial Version Created|\n|2023-09-18|0.2|Vicky Kuo|Reviewed and Revised|--!>\n",
      "metadata": {}
    }
  ]
}